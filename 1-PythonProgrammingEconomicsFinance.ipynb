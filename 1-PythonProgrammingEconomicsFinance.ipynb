{
 "cells": [
  {
   "cell_type": "markdown",
   "metadata": {},
   "source": [
    "# QuantEcon: Python Programming for Economics and Finance \n",
    "\n",
    "Exercises from https://python-programming.quantecon.org/intro.html"
   ]
  },
  {
   "cell_type": "markdown",
   "metadata": {},
   "source": [
    "## 3.6 Exercises (An Introductory Example)"
   ]
  },
  {
   "cell_type": "code",
   "execution_count": 2,
   "metadata": {},
   "outputs": [],
   "source": [
    "import numpy as np \n",
    "import matplotlib.pyplot as plt\n",
    "plt.rcParams['figure.figsize'] = (12,6)"
   ]
  },
  {
   "cell_type": "markdown",
   "metadata": {},
   "source": [
    "### Exercise 1\n",
    "Simulate and plot the correlated time series \n",
    "\n",
    "$$ x_{t+1} = \\alpha x_t + \\varepsilon_{t+1} $$\n",
    "\n",
    "where $x_0 = 0$, $t = 0, ..., T$, and the sequence of shocks $\\{\\varepsilon_t\\}$ is assumed to be i.i.d. standard normal.\n",
    "\n",
    "Let $T = 200$ and $\\alpha = 0.9$."
   ]
  },
  {
   "cell_type": "code",
   "execution_count": null,
   "metadata": {},
   "outputs": [],
   "source": [
    "T = 200\n",
    "α = 0.9 \n",
    "\n",
    "ɛ_values = np.random.randn(T+1)\n",
    "\n",
    "x_values = np.empty(T+1)\n",
    "x_values[0] = 0\n",
    "\n",
    "for i in range(T):\n",
    "    x_values[i+1] = α * x_values[i] + ɛ_values[i+1]\n",
    "\n",
    "plt.plot(x_values)\n",
    "plt.xlabel('t')\n",
    "plt.ylabel('$x_t$')\n",
    "plt.show()"
   ]
  },
  {
   "cell_type": "markdown",
   "metadata": {},
   "source": [
    "### Exercise 2\n",
    "Starting with your solution to exercise 1, plot three simulated time series, one for each of the cases α=0, α=0.8 and α=0.98.\n",
    "\n",
    "Use a for loop to step through the α values.\n",
    "\n",
    "If you can, add a legend, to help distinguish between the three time series."
   ]
  },
  {
   "cell_type": "code",
   "execution_count": null,
   "metadata": {},
   "outputs": [],
   "source": [
    "T = 200\n",
    "α_values = [0, 0.8, 0.98]\n",
    "\n",
    "ɛ_values = np.random.randn(T+1)\n",
    "\n",
    "x_values = np.empty((T+1, len(α_values)))\n",
    "x_values[0] = 0\n",
    "\n",
    "for j in range(len(α_values)):\n",
    "    for i in range(T):\n",
    "        x_values[i+1,j] = α_values[j] * x_values[i,j] + ɛ_values[i+1]\n",
    "\n",
    "# Could have included plots into for loop\n",
    "plt.plot(x_values[:,0], label = 'α = ' + str(α_values[0]))\n",
    "plt.plot(x_values[:,1], label = 'α = ' + str(α_values[1]))\n",
    "plt.plot(x_values[:,2], label = 'α = ' + str(α_values[2]))\n",
    "\n",
    "plt.legend()\n",
    "plt.xlabel('t')\n",
    "plt.ylabel('$x_t$')\n",
    "\n",
    "plt.show()"
   ]
  },
  {
   "cell_type": "code",
   "execution_count": null,
   "metadata": {},
   "outputs": [],
   "source": [
    "# Cleaner version after reading 5.4.2 Loops without Indices\n",
    "\n",
    "T = 200\n",
    "α_values = [0, 0.8, 0.98]\n",
    "\n",
    "ɛ_values = np.random.randn(T+1)\n",
    "x = np.empty(T+1)\n",
    "\n",
    "for α in α_values:\n",
    "    x[0]=0\n",
    "    for i in range(T):\n",
    "        x[i+1] = α * x[i] + ɛ_values[i+1]\n",
    "    plt.plot(x, label = 'α = ' + str(α))\n",
    "\n",
    "plt.legend()\n",
    "plt.xlabel('t')\n",
    "plt.ylabel('$x_t$')\n",
    "\n",
    "plt.show()"
   ]
  },
  {
   "cell_type": "markdown",
   "metadata": {},
   "source": [
    "### Exercise 3\n",
    "Similar to the previous exercises, plot the time series\n",
    "\n",
    "$$ x_{t+1} = α|x_t|+ \\varepsilon_{t+1}$$\n",
    "\n",
    "where $x_0=0$ and $t=0,...,T$. Use T=200, α=0.9 and {$\\varepsilon_t$} as before.\n",
    "\n",
    "Search online for a function that can be used to compute the absolute value $|x_t|$."
   ]
  },
  {
   "cell_type": "code",
   "execution_count": null,
   "metadata": {},
   "outputs": [],
   "source": [
    "T = 200\n",
    "α = 0.9 \n",
    "\n",
    "ɛ_values = np.random.randn(T+1)\n",
    "\n",
    "x_values = np.empty(T+1)\n",
    "x_values[0] = 0\n",
    "\n",
    "for i in range(T):\n",
    "    x_values[i+1] = α * np.abs(x_values[i]) + ɛ_values[i+1]\n",
    "\n",
    "plt.plot(x_values)\n",
    "plt.xlabel('t')\n",
    "plt.ylabel('$x_t$')\n",
    "plt.show()"
   ]
  },
  {
   "cell_type": "markdown",
   "metadata": {},
   "source": [
    "### Exercise 4\n",
    "One important aspect of essentially all programming languages is branching and conditions.\n",
    "\n",
    "In Python, conditions are usually implemented with if–else syntax.\n",
    "\n",
    "Now, write a new solution to Exercise 3 that does not use an existing function to compute the absolute value.\n",
    "\n",
    "Replace this existing function with an if–else condition"
   ]
  },
  {
   "cell_type": "code",
   "execution_count": null,
   "metadata": {},
   "outputs": [],
   "source": [
    "T = 200\n",
    "α = 0.9 \n",
    "\n",
    "ɛ_values = np.random.randn(T+1)\n",
    "\n",
    "x_values = np.empty(T+1)\n",
    "x_values[0] = 0\n",
    "\n",
    "for i in range(T):\n",
    "    if x_values[i] > 0:\n",
    "        x_values[i+1] = α * x_values[i] + ɛ_values[i+1]\n",
    "    else: \n",
    "        x_values[i+1] = - α * x_values[i] + ɛ_values[i+1]\n",
    "\n",
    "plt.plot(x_values)\n",
    "plt.xlabel('t')\n",
    "plt.ylabel('$x_t$')\n",
    "plt.show()"
   ]
  },
  {
   "cell_type": "markdown",
   "metadata": {},
   "source": [
    "### Exercise 5\n",
    "Here’s a harder exercise, that takes some thought and planning.\n",
    "\n",
    "The task is to compute an approximation to π using Monte Carlo (https://en.wikipedia.org/wiki/Monte_Carlo_method).\n",
    "\n",
    "Use no imports besides NumPy.\n",
    "\n",
    "Your hints are as follows:\n",
    "\n",
    "- If $U$ is a bivariate uniform random variable on the unit square $(0,1)^2$, then the probability that $U$ lies in a subset $B$ of $(0,1)^2$ is equal to the area of $B$.\n",
    "\n",
    "- If $U_1,...,U_n$ are i.i.d. copies of $U$, then, as $n$ gets large, the fraction that falls in $B$, converges to the probability of landing in $B$.\n",
    "\n",
    "- For a circle, area=π∗radius$^2$."
   ]
  },
  {
   "cell_type": "code",
   "execution_count": null,
   "metadata": {},
   "outputs": [],
   "source": [
    "# Monte-Carlo Simulations with one value of iterations\n",
    "n = 10000\n",
    "num_in = 0\n",
    "  \n",
    "for i in range(n):\n",
    "    u_x = np.random.uniform(0,1)  \n",
    "    u_y = np.random.uniform(0,1)\n",
    "    dist = np.sqrt(u_x**2 + u_y**2)\n",
    "    if dist < 1: \n",
    "        num_in += 1\n",
    "    else:\n",
    "        continue\n",
    "    \n",
    "π_approx = (num_in / n) * 4\n",
    "\n",
    "print(π_approx)"
   ]
  },
  {
   "cell_type": "code",
   "execution_count": null,
   "metadata": {},
   "outputs": [],
   "source": [
    "# Monte-Carlo Simulations with multiple values of iterations\n",
    "n = [1000, 5000, 10000, 50000]\n",
    "num_in = np.zeros(len(n))\n",
    "π_approx = np.empty(len(n))\n",
    "\n",
    "for j in range(len(n)):    \n",
    "    for i in range(n[j]):\n",
    "        u_x = np.random.uniform(0,1)  \n",
    "        u_y = np.random.uniform(0,1)\n",
    "        dist = np.sqrt(u_x**2 + u_y**2)\n",
    "        if dist < 1: \n",
    "            num_in[j] = num_in[j] + 1\n",
    "        else:\n",
    "            continue\n",
    "    \n",
    "    π_approx[j] = (num_in[j] / n[j]) * 4\n",
    "    print('When n = ' + str(n[j]) + ', the approximation of π is ' + str(π_approx[j]))"
   ]
  },
  {
   "cell_type": "markdown",
   "metadata": {},
   "source": [
    "## 4.5 Exercises (Functions)"
   ]
  },
  {
   "cell_type": "markdown",
   "metadata": {},
   "source": [
    "### Exercise 1\n",
    "Recall that $n!$ is read as “n factorial” and defined as $n!=n\\times(n−1)\\times \\cdots \\times 2 \\times 1$.\n",
    "\n",
    "There are functions to compute this in various modules, but let’s write our own version as an exercise.\n",
    "\n",
    "In particular, write a function factorial such that factorial(n) returns $n!$ for any positive integer $n$."
   ]
  },
  {
   "cell_type": "code",
   "execution_count": null,
   "metadata": {},
   "outputs": [],
   "source": [
    "def factorial(n:int):\n",
    "    \"\"\"\n",
    "    Calculates the factorial of the argument, i.e. factorial(3) = 3! = 3*2*1\n",
    "    \"\"\"\n",
    "    mult = 1\n",
    "    while n>0:\n",
    "        mult = mult * n\n",
    "        n = n-1\n",
    "    return mult"
   ]
  },
  {
   "cell_type": "code",
   "execution_count": null,
   "metadata": {},
   "outputs": [],
   "source": [
    "factorial(2)"
   ]
  },
  {
   "cell_type": "code",
   "execution_count": null,
   "metadata": {},
   "outputs": [],
   "source": [
    "type(factorial(2))"
   ]
  },
  {
   "cell_type": "code",
   "execution_count": null,
   "metadata": {},
   "outputs": [],
   "source": [
    "factorial(3)"
   ]
  },
  {
   "cell_type": "code",
   "execution_count": null,
   "metadata": {},
   "outputs": [],
   "source": [
    "factorial(4)"
   ]
  },
  {
   "cell_type": "code",
   "execution_count": null,
   "metadata": {},
   "outputs": [],
   "source": [
    "factorial(5)"
   ]
  },
  {
   "cell_type": "markdown",
   "metadata": {},
   "source": [
    "### Exercise 2\n",
    "The binomial random variable $Y\\sim Bin(n,p)$ represents the number of successes in $n$ binary trials, where each trial succeeds with probability $p$.\n",
    "\n",
    "Without any import besides 'from numpy.random import uniform', write a function binomial_rv such that binomial_rv(n, p) generates one draw of $Y$.\n"
   ]
  },
  {
   "cell_type": "code",
   "execution_count": null,
   "metadata": {},
   "outputs": [],
   "source": [
    "def binomial_rv(n:int, p:float):\n",
    "    \"\"\"\n",
    "    Generates a draw from a binomial random variable with 'n' trials with the probability of success for each trial is 'p'\n",
    "    \"\"\"\n",
    "    \n",
    "    # Creating an array of the probability mass function for each k \\in {0,...,n}\n",
    "    pmf = np.empty(n+1)\n",
    "    \n",
    "    for k in range(n+1):\n",
    "        num = factorial(n)\n",
    "        denom = factorial(k) * factorial(n-k)\n",
    "        coeff = num / denom\n",
    "        \n",
    "        pmf[k] = coeff * p**k * (1-p)**(n-k) # probability that Y = k    \n",
    "\n",
    "    # Creating an array of the cumulative distribution function for each k \\in {0,...,n}\n",
    "    cdf = np.empty(n+1)\n",
    "    cdf[0] = pmf[0]\n",
    "    i = 1\n",
    "    \n",
    "    while i<n+1:\n",
    "        cdf[i] = cdf[i-1] + pmf[i]\n",
    "        i += 1\n",
    "    \n",
    "    # Using the uniform distribution to create a random draw of the probability\n",
    "    prob = np.random.uniform(0,1)\n",
    "    \n",
    "    for j in range(len(cdf)):\n",
    "        if prob >= cdf[j] and prob < cdf[j+1]:\n",
    "            draw = j\n",
    "        else:\n",
    "            continue\n",
    "\n",
    "    return draw"
   ]
  },
  {
   "cell_type": "code",
   "execution_count": null,
   "metadata": {},
   "outputs": [],
   "source": [
    "binomial_rv(4,0.5)"
   ]
  },
  {
   "cell_type": "markdown",
   "metadata": {},
   "source": [
    "### Exercise 3\n",
    "First, write a function that returns one realization of the following random device\n",
    "\n",
    "1. Flip an unbiased coin 10 times.\n",
    "\n",
    "2. If a head occurs $k$ or more times consecutively within this sequence at least once, pay one dollar.\n",
    "\n",
    "3. If not, pay nothing.\n",
    "\n",
    "Second, write another function that does the same task except that the second rule of the above random device becomes\n",
    "\n",
    "- If a head occurs $k$ or more times within this sequence, pay one dollar.\n",
    "\n",
    "Use no import besides from numpy.random import uniform."
   ]
  },
  {
   "cell_type": "code",
   "execution_count": null,
   "metadata": {},
   "outputs": [],
   "source": [
    "def random_1(k:int):\n",
    "\n",
    "    flips = np.empty(10)\n",
    "    consec = 0\n",
    "    owed = 0\n",
    "    \n",
    "    for i in range(len(flips)):\n",
    "        flips[i] = np.random.uniform(0,1)\n",
    "        if flips[i] > 0.5:    # Heads are >0.5\n",
    "            consec += 1\n",
    "        else:\n",
    "            consec = 0\n",
    "#             print(consec)\n",
    "        if consec >= k:\n",
    "            owed = 1\n",
    "        else: continue\n",
    "    \n",
    "#     print(flips)\n",
    "    \n",
    "    return owed"
   ]
  },
  {
   "cell_type": "code",
   "execution_count": null,
   "metadata": {},
   "outputs": [],
   "source": [
    "random_1(3)"
   ]
  },
  {
   "cell_type": "code",
   "execution_count": null,
   "metadata": {},
   "outputs": [],
   "source": [
    "def random_2(k:int):\n",
    "\n",
    "    flips = np.empty(10)\n",
    "    count = 0\n",
    "    owed = 0\n",
    "    \n",
    "    for i in range(len(flips)):\n",
    "        flips[i] = np.random.uniform(0,1)\n",
    "        if flips[i] > 0.5:    # Heads are >0.5\n",
    "            count += 1\n",
    "        else: continue\n",
    "        if count >= k:\n",
    "            owed = 1\n",
    "        else: continue\n",
    "            \n",
    "#     print(flips)\n",
    "    \n",
    "    return owed"
   ]
  },
  {
   "cell_type": "code",
   "execution_count": null,
   "metadata": {},
   "outputs": [],
   "source": [
    "random_2(6)"
   ]
  },
  {
   "cell_type": "markdown",
   "metadata": {},
   "source": [
    "## 5.8 Exercises (Python Essentials)"
   ]
  },
  {
   "cell_type": "markdown",
   "metadata": {},
   "source": [
    "### Exercise 1 \n",
    "Part 1: Given two numeric lists or tuples x_vals and y_vals of equal length, compute their inner product using zip().\n",
    "\n",
    "Part 2: In one line, count the number of even numbers in $0,\\dots,99$. (Hint: $x$ % 2 returns 0 if $x$ is even, 1 otherwise.)\n",
    "\n",
    "Part 3: Given pairs = $\\big((2, 5), (4, 2), (9, 8), (12, 10)\\big)$, count the number of pairs (a, b) such that both a and b are even."
   ]
  },
  {
   "cell_type": "code",
   "execution_count": null,
   "metadata": {},
   "outputs": [],
   "source": [
    "# Part 1\n",
    "\n",
    "def innerprod(x_vals, y_vals):\n",
    "    \"\"\"\n",
    "    Calculates the inner product of two numeric lists or tuples\n",
    "    \"\"\"\n",
    "    if len(x_vals) != len(y_vals):\n",
    "        return print(\"The inputs are not of the same length.\")\n",
    "    sum = 0\n",
    "    for x, y in zip(x_vals, y_vals):\n",
    "        sum = sum + (x*y)\n",
    "    return sum"
   ]
  },
  {
   "cell_type": "code",
   "execution_count": null,
   "metadata": {},
   "outputs": [],
   "source": [
    "# Part 2\n",
    "\n",
    "sum([x % 2 == 0 for x in range(99)])"
   ]
  },
  {
   "cell_type": "code",
   "execution_count": null,
   "metadata": {},
   "outputs": [],
   "source": [
    "# Part 3 \n",
    "\n",
    "pairs = [(2,5), (4,2), (9,8), (12,10)]\n",
    "count = 0\n",
    "\n",
    "for (x,y) in pairs:\n",
    "    if x%2 == 0 and y%2==0:\n",
    "        count +=1 \n",
    "\n",
    "print(\"There are \" + str(count) + \" pairs (a,b) such that both a and b are even.\")"
   ]
  },
  {
   "cell_type": "markdown",
   "metadata": {},
   "source": [
    "### Exercise 2\n",
    "Consider the polynomial\n",
    "\n",
    "$$ p(x) = a_0 + a_1 x + a_2 x^2 + \\cdots + a_n x^n = \\sum_{i=0}^n a_i x^i $$ \n",
    "\n",
    "Write a function p such that p(x, coeff) that computes the value in the above equation given a point x and a list of coefficients coeff.\n",
    "\n",
    "Try to use enumerate() in your loop."
   ]
  },
  {
   "cell_type": "code",
   "execution_count": null,
   "metadata": {},
   "outputs": [],
   "source": [
    "def p(x:float, coeff:list):\n",
    "    \"\"\"\n",
    "    Calculates the sum of polynomial with value x and coefficients from coeff and \n",
    "    \"\"\"\n",
    "    \n",
    "    summand = 0\n",
    "    \n",
    "    for index, a in enumerate(coeff):\n",
    "        summand += a * (x**index)\n",
    "    \n",
    "    return summand"
   ]
  },
  {
   "cell_type": "markdown",
   "metadata": {},
   "source": [
    "### Exercise 3\n",
    "Write a function that takes a string as an argument and returns the number of capital letters in the string.\n",
    "\n",
    "Hint: 'foo'.upper() returns 'FOO'."
   ]
  },
  {
   "cell_type": "code",
   "execution_count": null,
   "metadata": {},
   "outputs": [],
   "source": [
    "def num_capital(string:str):\n",
    "    \"\"\"\n",
    "    Count the number of capital letters in a string\n",
    "    \"\"\"\n",
    "    \n",
    "    count = 0\n",
    "    \n",
    "    for x in string:\n",
    "        if x == x.upper() and x.isalpha()==True:\n",
    "            count +=1\n",
    "    \n",
    "    return count"
   ]
  },
  {
   "cell_type": "code",
   "execution_count": null,
   "metadata": {},
   "outputs": [],
   "source": [
    "string = 'This Sentence Has Six Capital Letters'\n",
    "\n",
    "num_capital(string)"
   ]
  },
  {
   "cell_type": "code",
   "execution_count": null,
   "metadata": {},
   "outputs": [],
   "source": [
    "def num_capital_oneline(string:str):\n",
    "    \"\"\"\n",
    "    Count the number of capital letters in a string\n",
    "    \"\"\"\n",
    "    \n",
    "    return sum([x == x.upper() and x.isalpha()==True for x in string])"
   ]
  },
  {
   "cell_type": "code",
   "execution_count": null,
   "metadata": {},
   "outputs": [],
   "source": [
    "num_capital_oneline(string)"
   ]
  },
  {
   "cell_type": "markdown",
   "metadata": {},
   "source": [
    "### Exercise 4\n",
    "Write a function that takes two sequences seq_a and seq_b as arguments and returns True if every element in seq_a is also an element of seq_b, else False.\n",
    "\n",
    "- By “sequence” we mean a list, a tuple or a string.\n",
    "\n",
    "- Do the exercise without using sets and set methods."
   ]
  },
  {
   "cell_type": "code",
   "execution_count": null,
   "metadata": {},
   "outputs": [],
   "source": [
    "def a_subset_b(seq_a, seq_b):\n",
    "    \"\"\"\n",
    "    Determines whether every element in sequence a is in sequence b\n",
    "    \n",
    "    seq_a and seq_b can be a list, tuple or string\n",
    "    \"\"\"\n",
    "    \n",
    "    subset = True \n",
    "    \n",
    "    for a in seq_a:\n",
    "        if a not in seq_b:\n",
    "            subset = False \n",
    "\n",
    "    return subset"
   ]
  },
  {
   "cell_type": "code",
   "execution_count": null,
   "metadata": {},
   "outputs": [],
   "source": [
    "a = (1,2)\n",
    "b = (2,3)\n",
    "\n",
    "a_subset_b(a,b)"
   ]
  },
  {
   "cell_type": "code",
   "execution_count": null,
   "metadata": {},
   "outputs": [],
   "source": [
    "a = [1,2,3]\n",
    "b = [2,3,1,4]\n",
    "\n",
    "a_subset_b(a,b)"
   ]
  },
  {
   "cell_type": "code",
   "execution_count": null,
   "metadata": {},
   "outputs": [],
   "source": [
    "a = \"This Sentence is Long.\"\n",
    "b = \"This Sentence is Longer.\"\n",
    "\n",
    "a_subset_b(a,b)"
   ]
  },
  {
   "cell_type": "markdown",
   "metadata": {},
   "source": [
    "### Exercise 5\n",
    "When we cover the numerical libraries, we will see they include many alternatives for interpolation and function approximation.\n",
    "\n",
    "Nevertheless, let’s write our own function approximation routine as an exercise.\n",
    "\n",
    "In particular, without using any imports, write a function linapprox that takes as arguments\n",
    "\n",
    "- A function $f$ mapping some interval $[a,b]$ into $\\mathbb{R}$.\n",
    "\n",
    "- Two scalars $a$ and $b$ providing the limits of this interval.\n",
    "\n",
    "- An integer $n$ determining the number of grid points.\n",
    "\n",
    "- A number $x$ satisfying $a \\leq x \\leq b$.\n",
    "\n",
    "and returns the piecewise linear interpolation of $f$ at $x$, based on $n$ evenly spaced grid points $a =$point[0] $<$ point[1] $< \\dots <$ point[n-1] $= b$.\n",
    "\n",
    "Aim for clarity, not efficiency."
   ]
  },
  {
   "cell_type": "code",
   "execution_count": null,
   "metadata": {},
   "outputs": [],
   "source": [
    "def linapprox(f, a:float, b:float, n:int, x:float):\n",
    "    \"\"\"\n",
    "    Piecewise linear interpolation of function f at x based on n evenly spaced grid points\n",
    "    a = point[0] < point[1] < ... < point[n-1] = b\n",
    "    \"\"\"\n",
    "    \n",
    "    "
   ]
  },
  {
   "cell_type": "markdown",
   "metadata": {},
   "source": [
    "### Exercise 6\n",
    "Using list comprehension syntax, simplify the loop in the following code:"
   ]
  },
  {
   "cell_type": "code",
   "execution_count": null,
   "metadata": {},
   "outputs": [],
   "source": [
    "n = 100\n",
    "ϵ_values = []\n",
    "for i in range(n):\n",
    "    e = np.random.randn()\n",
    "    ϵ_values.append(e)"
   ]
  },
  {
   "cell_type": "code",
   "execution_count": null,
   "metadata": {},
   "outputs": [],
   "source": [
    "ϵ_values = [np.random.rand() for x in range(100)]"
   ]
  },
  {
   "cell_type": "markdown",
   "metadata": {},
   "source": [
    "## 7.5 Exercises (OOP II: Building Classes)"
   ]
  },
  {
   "cell_type": "markdown",
   "metadata": {},
   "source": [
    "### Exercise 1\n",
    "The empirical cumulative distribution function (ecdf) corresponding to a sample $\\{𝑋_𝑖\\}^𝑛_{𝑖=1}$ is defined as\n",
    "\n",
    "$$ 𝐹_𝑛(𝑥):= \\frac{1}{𝑛} \\sum_{𝑖=1}^𝑛 1\\{𝑋_𝑖 \\leq 𝑥 \\} \\hspace{5em}(𝑥\\in\\mathbb{R})$$\n",
    "Here $1\\{𝑋_𝑖\\leq 𝑥\\}$ is an indicator function (one if $𝑋_𝑖 \\leq 𝑥$ and zero otherwise) and hence $𝐹_𝑛(𝑥)$ is the fraction of the sample that falls below $𝑥$.\n",
    "\n",
    "The Glivenko–Cantelli Theorem states that, provided that the sample is IID, the ecdf $𝐹_𝑛$ converges to the true distribution function $𝐹$.\n",
    "\n",
    "Implement $𝐹_𝑛$ as a class called ECDF, where\n",
    "\n",
    "- A given sample $\\{𝑋_𝑖\\}^𝑛_{𝑖=1}$ are the instance data, stored as self.observations.\n",
    "\n",
    "- The class implements a __call__ method that returns $𝐹_𝑛(𝑥)$ for any $𝑥$.\n",
    "\n",
    "Your code should work as follows (modulo randomness)\n",
    "\n",
    "    from random import uniform\n",
    "\n",
    "    samples = [uniform(0, 1) for i in range(10)]\n",
    "    F = ECDF(samples)\n",
    "    F(0.5)  # Evaluate ecdf at x = 0.5\n",
    "\n",
    "    F.observations = [uniform(0, 1) for i in range(1000)]\n",
    "    F(0.5)"
   ]
  },
  {
   "cell_type": "code",
   "execution_count": null,
   "metadata": {},
   "outputs": [],
   "source": [
    "class ECDF:\n",
    "    \"\"\"\n",
    "    Calculates the empirical CDF of data (observations) for cutoff value (x)\n",
    "    \"\"\"\n",
    "    \n",
    "    def __init__(self, observations):\n",
    "        \"\"\"\n",
    "        Initialize with sample data \n",
    "        \"\"\"\n",
    "        self.observations = observations\n",
    "        \n",
    "    def __call__(self, x):\n",
    "        \"\"\"\n",
    "        Calculates the ECDF given cutoff value x\n",
    "        \"\"\"\n",
    "        summand = 0\n",
    "        n = len(self.observations)\n",
    "        for i in self.observations: \n",
    "            if i <= x:\n",
    "                summand += 1\n",
    "            else: continue\n",
    "        return summand / n"
   ]
  },
  {
   "cell_type": "code",
   "execution_count": null,
   "metadata": {},
   "outputs": [],
   "source": [
    "from random import uniform\n",
    "\n",
    "samples = [uniform(0, 1) for i in range(10)]\n",
    "F = ECDF(samples)\n",
    "F(0.5)"
   ]
  },
  {
   "cell_type": "code",
   "execution_count": null,
   "metadata": {},
   "outputs": [],
   "source": [
    "F.observations = [uniform(0,1) for i in range(1000)]\n",
    "F(0.5)"
   ]
  },
  {
   "cell_type": "markdown",
   "metadata": {},
   "source": [
    "### Exercise 2\n",
    "In an earlier exercise, you wrote a function for evaluating polynomials.\n",
    "\n",
    "This exercise is an extension, where the task is to build a simple class called Polynomial for representing and manipulating polynomial functions such as\n",
    "\n",
    "$$ p(x) = a_0 + a_1 x + a_2 x^2 + \\cdots a_N x^ N = \\Sigma_{n=0}^N a_n x^n (x \\in \\mathbb{R})$$\n",
    "\n",
    "The instance data for the class Polynomial will be the coefficients (in the case above, the numbers $a_0,\\dots,a_N$).\n",
    "\n",
    "Provide methods that\n",
    "\n",
    "- Evaluate the polynomial above, returning $p(x)$ for any $x$.\n",
    "\n",
    "- Differentiate the polynomial, replacing the original coefficients with those of its derivative $p′$.\n",
    "\n",
    "Avoid using any import statements."
   ]
  },
  {
   "cell_type": "code",
   "execution_count": 1,
   "metadata": {},
   "outputs": [],
   "source": [
    "class Polynomial:\n",
    "    \"\"\"\n",
    "    Represents and manipulates polynomial functions\n",
    "    \"\"\"\n",
    "    \n",
    "    def __init__(self, coefficients):\n",
    "        \"\"\"\n",
    "        Initializes with coefficients\n",
    "        \"\"\"\n",
    "        self.coefficients=coefficients\n",
    "    \n",
    "    def __call__(self):\n",
    "        \"\"\"\n",
    "        Returns the coefficients of the polynomial\n",
    "        \"\"\"\n",
    "        p = \"p(x) = \"\n",
    "        for index, a in enumerate(self.coefficients):\n",
    "            if index == 0:\n",
    "                add_string = str(a)\n",
    "                p += str(add_string)\n",
    "            else:\n",
    "                add_string = \" + \" + str(a) + \"x^\" + str(index)\n",
    "                p += str(add_string)\n",
    "        return p\n",
    "    \n",
    "    def evaluate(self, x):\n",
    "        \"\"\"\n",
    "        Evaluates the sum of polynomial with value x and coefficients from coeff\n",
    "        \"\"\"\n",
    "        summand = 0\n",
    "        \n",
    "        for index, a in enumerate(self.coefficients):\n",
    "            summand += a * (x**index)\n",
    "    \n",
    "        return summand\n",
    "    \n",
    "    def differentiate(self):\n",
    "        \"\"\"\n",
    "        Differentiates the polynomial, replacing the originial coefficients with those of its derivative p'\n",
    "        \"\"\"\n",
    "        p_prime = []\n",
    "        for index, a in enumerate(self.coefficients):\n",
    "            if index == 0:\n",
    "                continue\n",
    "            else:\n",
    "                p_prime.append(a * index)\n",
    "\n",
    "        derivative = Polynomial(p_prime)\n",
    "        \n",
    "        return derivative"
   ]
  },
  {
   "cell_type": "code",
   "execution_count": 2,
   "metadata": {},
   "outputs": [],
   "source": [
    "coeff = [1,1,1]\n",
    "p = Polynomial(coeff)"
   ]
  },
  {
   "cell_type": "code",
   "execution_count": 3,
   "metadata": {},
   "outputs": [
    {
     "data": {
      "text/plain": [
       "7"
      ]
     },
     "execution_count": 3,
     "metadata": {},
     "output_type": "execute_result"
    }
   ],
   "source": [
    "p.evaluate(2)"
   ]
  },
  {
   "cell_type": "code",
   "execution_count": 4,
   "metadata": {},
   "outputs": [],
   "source": [
    "p_prime = p.differentiate()"
   ]
  },
  {
   "cell_type": "code",
   "execution_count": 5,
   "metadata": {},
   "outputs": [
    {
     "data": {
      "text/plain": [
       "<__main__.Polynomial at 0x111fdb208>"
      ]
     },
     "execution_count": 5,
     "metadata": {},
     "output_type": "execute_result"
    }
   ],
   "source": [
    "p_prime"
   ]
  },
  {
   "cell_type": "code",
   "execution_count": 6,
   "metadata": {},
   "outputs": [
    {
     "data": {
      "text/plain": [
       "5"
      ]
     },
     "execution_count": 6,
     "metadata": {},
     "output_type": "execute_result"
    }
   ],
   "source": [
    "p_prime.evaluate(2)"
   ]
  },
  {
   "cell_type": "code",
   "execution_count": 7,
   "metadata": {},
   "outputs": [
    {
     "data": {
      "text/plain": [
       "'p(x) = 1 + 2x^1'"
      ]
     },
     "execution_count": 7,
     "metadata": {},
     "output_type": "execute_result"
    }
   ],
   "source": [
    "p_prime()"
   ]
  },
  {
   "cell_type": "code",
   "execution_count": 8,
   "metadata": {},
   "outputs": [
    {
     "data": {
      "text/plain": [
       "'p(x) = 1 + 1x^1 + 1x^2'"
      ]
     },
     "execution_count": 8,
     "metadata": {},
     "output_type": "execute_result"
    }
   ],
   "source": [
    "p()"
   ]
  },
  {
   "cell_type": "markdown",
   "metadata": {},
   "source": [
    "## 9.5 Exercises (NumPy)"
   ]
  },
  {
   "cell_type": "markdown",
   "metadata": {},
   "source": [
    "### Exercise 1\n",
    "\n",
    "Consider the polynomial expression\n",
    "\n",
    "$$ p(x)=a_0+a_1x+a_2x^2+ \\cdots a_Nx^N = \\Sigma_{n=0}^N a_nx^n $$\n",
    "\n",
    "Earlier, you wrote a simple function p(x, coeff) to evaluate the equation above without considering efficiency.\n",
    "\n",
    "Now write a new function that does the same job, but uses NumPy arrays and array operations for its computations, rather than any form of Python loop."
   ]
  },
  {
   "cell_type": "code",
   "execution_count": 5,
   "metadata": {},
   "outputs": [],
   "source": [
    "def p_numpy(x: np.float, coeff: np.array):\n",
    "    \"\"\"\n",
    "    Evaluates a poylnomial equation\n",
    "    \n",
    "    Inputs: \n",
    "        - x: float value at which the equation will be evaluated \n",
    "        - coeff: coefficients a of the polynomial \n",
    "    Returns: \n",
    "        - sum of polynomial with coefficients (coeff) evaluated at x\n",
    "    \"\"\"\n",
    "    \n",
    "    x_vector = np.ones(len(coeff)) # creates vector of 1s for the x-values\n",
    "    x_vector[1:] = x # edits inputs of vector to be [1,x,x,...] to be cumulatively multiplied in the next line\n",
    "    poly = x_vector.cumprod() * coeff # creates an array of the terms of the polynomial [a_0 * 1, a_1 * x, a_2 * x^2, ...]\n",
    "    summand = poly.sum() # adds the elements of the array to evaluate the polynomial\n",
    "    \n",
    "    return summand"
   ]
  },
  {
   "cell_type": "markdown",
   "metadata": {},
   "source": [
    "### Exercise 2\n",
    "\n",
    "Let $q$ be a NumPy array of length $n$ with $q.sum() == 1$. Suppose that $q$ represents a probability mass function. We wish to generate a discrete random variable $x$ such that $\\mathbb{P}\\{x=i\\}=q_i$. In other words, $x$ takes values in $range(len(q))$ and $x = i$ with probability $q[i]$.\n",
    "\n",
    "The standard (inverse transform) algorithm is as follows:\n",
    "\n",
    "- Divide the unit interval $[0,1]$ into $n$ subintervals $I_0,I_1,\\dots,I_{n−1}$ such that the length of $I_i$ is $q_i$.\n",
    "- Draw a uniform random variable $U$ on $[0,1]$ and return the $i$ such that $U \\in I_i$.\n",
    "- The probability of drawing $i$ is the length of $I_i$, which is equal to $q_i$.\n",
    "\n",
    "We can implement the algorithm as follows"
   ]
  },
  {
   "cell_type": "code",
   "execution_count": 8,
   "metadata": {},
   "outputs": [],
   "source": [
    "from random import uniform\n",
    "\n",
    "def sample(q):\n",
    "    a = 0.0\n",
    "    U = uniform(0, 1)\n",
    "    for i in range(len(q)):\n",
    "        if a < U <= a + q[i]:\n",
    "            return i\n",
    "        a = a + q[i]"
   ]
  },
  {
   "cell_type": "markdown",
   "metadata": {},
   "source": [
    "Your exercise is to speed it up using NumPy, avoiding explicit loops"
   ]
  },
  {
   "cell_type": "code",
   "execution_count": null,
   "metadata": {},
   "outputs": [],
   "source": [
    "def inv_transf(q: np.array):\n",
    "    \"\"\"\n",
    "    Caclulates the inverse transform of a probability mass function q to a discrete random variable \n",
    "    \n",
    "    Inputs:\n",
    "        -\n",
    "    Returns: \n",
    "        - \n",
    "    \"\"\"\n",
    "    U = uniform(0,1)\n",
    "    \n",
    "    tmp = q.cumsum() #creates array of cumulative sum of elements in q\n",
    "    index = tmp.searchsorted(U) #returns the index of the first value in tmp that is >= U\n",
    "    \n",
    "    return index"
   ]
  },
  {
   "cell_type": "markdown",
   "metadata": {},
   "source": []
  }
 ],
 "metadata": {
  "kernelspec": {
   "display_name": "Python 3",
   "language": "python",
   "name": "python3"
  },
  "language_info": {
   "codemirror_mode": {
    "name": "ipython",
    "version": 3
   },
   "file_extension": ".py",
   "mimetype": "text/x-python",
   "name": "python",
   "nbconvert_exporter": "python",
   "pygments_lexer": "ipython3",
   "version": "3.6.8"
  }
 },
 "nbformat": 4,
 "nbformat_minor": 4
}
